{
 "cells": [
  {
   "cell_type": "markdown",
   "id": "85175df7",
   "metadata": {},
   "source": [
    "## This notebook is part of my hands-on machine learning journey, where I’m learning how to build real-world NLP systems from scratch. In this project, I built an Intent Detection System trained on the WellaBanda/hospitality_intents_en dataset, which includes guest queries and their mapped intent classes (like BOOKING, FOOD_ORDER, CANCELATION, etc.)."
   ]
  },
  {
   "cell_type": "markdown",
   "id": "2cb16810",
   "metadata": {},
   "source": [
    " 🔹 Importing all the necessary libraries I need for this project:\n",
    " - os, re, numpy, pandas: for handling files, text processing, and working with data\n",
    " - joblib: to save and load my trained label encoder\n",
    " - sklearn and torch: for machine learning and deep learning tasks\n",
    " - transformers: to load pre-trained tokenizer and model (like BERT)\n"
   ]
  },
  {
   "cell_type": "code",
   "execution_count": 1,
   "id": "e534dea7",
   "metadata": {},
   "outputs": [],
   "source": [
    "import os\n",
    "import re\n",
    "import numpy as np\n",
    "import pandas as pd\n",
    "import joblib\n",
    "import matplotlib.pyplot as plt\n",
    "import seaborn as sns\n",
    "from typing import List, Dict, Tuple\n",
    "from datasets import load_dataset\n",
    "from sklearn.preprocessing import LabelEncoder\n",
    "from sklearn.metrics import accuracy_score, f1_score, classification_report, confusion_matrix\n",
    "import torch\n",
    "from torch.utils.data import Dataset, DataLoader, Subset\n",
    "from torch.optim import AdamW\n",
    "from transformers import AutoTokenizer, AutoModelForSequenceClassification, BertConfig, AutoConfig"
   ]
  },
  {
   "cell_type": "markdown",
   "id": "9408ef17",
   "metadata": {},
   "source": [
    " 🔹 This function loads the hospitality intent dataset from Hugging Face.\n",
    "- I can optionally pass sample sizes for training and testing.\n",
    "- It shuffles the data to ensure randomness and converts it into pandas DataFrames.\n",
    "- I’m also cleaning the data by dropping any rows with nulls and removing duplicate text entries.\n",
    "- Finally, I’m resetting the index to keep everything neat and tidy before training the model.\n"
   ]
  },
  {
   "cell_type": "code",
   "execution_count": 2,
   "id": "bbe37374",
   "metadata": {},
   "outputs": [],
   "source": [
    "def load_data_from_huggingface(sample_size_train=None, sample_size_test=None) -> Tuple[pd.DataFrame, pd.DataFrame]:\n",
    "    ds = load_dataset(\"WellaBanda/hospitality_intents_en\")\n",
    "    if sample_size_train:\n",
    "        df_train = ds[\"train\"].shuffle(seed=42).select(range(sample_size_train)).to_pandas()\n",
    "    else:\n",
    "        df_train = ds[\"train\"].to_pandas()\n",
    "    if sample_size_test:\n",
    "        df_test = ds[\"test\"].shuffle(seed=42).select(range(sample_size_test)).to_pandas()\n",
    "    else:\n",
    "        df_test = ds[\"test\"].to_pandas()\n",
    "    df_train = df_train.dropna(subset=[\"text\", \"label_text\", \"label\"]).drop_duplicates(subset=[\"text\"])\n",
    "    df_test = df_test.dropna(subset=[\"text\", \"label_text\", \"label\"]).drop_duplicates(subset=[\"text\"])\n",
    "    return df_train.reset_index(drop=True), df_test.reset_index(drop=True)"
   ]
  },
  {
   "cell_type": "markdown",
   "id": "8c144591",
   "metadata": {},
   "source": [
    " This function helps me explore the training data.\n",
    "- First, I’m printing the class distribution to understand if the dataset is imbalanced.\n",
    "- Then I calculate the length of each text (number of words) for analysis.\n",
    "- I use seaborn to visualize the distribution of message lengths in a histogram.\n",
    "- The chart shows how long the messages are, and whether I need to truncate or pad in preprocessing.\n",
    "- I save the figure as 'text_length_distribution.png' in case I need to include it in my report.\n"
   ]
  },
  {
   "cell_type": "code",
   "execution_count": 3,
   "id": "11046fa9",
   "metadata": {},
   "outputs": [],
   "source": [
    "def run_eda(df_train):\n",
    "    print(\"Class Distribution:\\n\", df_train[\"label_text\"].value_counts())\n",
    "    df_train[\"text_length\"] = df_train[\"text\"].str.split().apply(len)\n",
    "    plt.figure(figsize=(8, 4))\n",
    "    sns.histplot(df_train[\"text_length\"], bins=20)\n",
    "    plt.title(\"Message Length Distribution\")\n",
    "    plt.xlabel(\"Number of Words\")\n",
    "    plt.ylabel(\"Frequency\")\n",
    "    plt.tight_layout()\n",
    "    plt.show()\n",
    "    plt.savefig(\"text_length_distribution.png\")\n",
    "    plt.close()"
   ]
  },
  {
   "cell_type": "markdown",
   "id": "b0309b79",
   "metadata": {},
   "source": [
    "Here I’m loading the hospitality intent dataset from Hugging Face using the custom function I built earlier.\n",
    "- It returns both training and testing DataFrames.\n",
    "- I’m printing the `.head()` of both to visually confirm everything is loading properly.\n",
    "- Finally, I’m running EDA (exploratory data analysis) on the training data to check class balance and message length distribution.\n"
   ]
  },
  {
   "cell_type": "code",
   "execution_count": 4,
   "id": "2fab6202",
   "metadata": {},
   "outputs": [
    {
     "name": "stdout",
     "output_type": "stream",
     "text": [
      "Train Data Head:\n",
      "                                          text  label_text  label\n",
      "0    do you offer any activities in the resort  ACTIVITIES      0\n",
      "1                                   adventures  ACTIVITIES      0\n",
      "2                         adventure activities  ACTIVITIES      0\n",
      "3  what kind of adventure activity do you have  ACTIVITIES      0\n",
      "4          what kind of adventure do you offer  ACTIVITIES      0\n",
      "\n",
      "Test Data Head:\n",
      "                                                text  label_text  label\n",
      "0  what types of activities do you offer in the r...  ACTIVITIES      0\n",
      "1    Which free activities I will get in the resort?  ACTIVITIES      0\n",
      "2  Pls let me know activities in & around hotel, ...  ACTIVITIES      0\n",
      "3  Pls let me know activities in & around hotel, ...  ACTIVITIES      0\n",
      "4        what type of activities i can do near hotel  ACTIVITIES      0\n",
      "Class Distribution:\n",
      " label_text\n",
      "BANQUET_BOOKING         24962\n",
      "ROOMS                   10148\n",
      "DOCTOR_FACILITY          8119\n",
      "SERVANT_ACCOMODATION     7896\n",
      "COUPLE_FRIENDLY          7037\n",
      "                        ...  \n",
      "FINANCE                     4\n",
      "ROOM_SERVICE                3\n",
      "ELECTRICAL                  2\n",
      "BOOKING_PO                  1\n",
      "DAY_PLANNING                1\n",
      "Name: count, Length: 61, dtype: int64\n"
     ]
    },
    {
     "data": {
      "image/png": "[encoded data removed]",
      "text/plain": [
       "<Figure size 800x400 with 1 Axes>"
      ]
     },
     "metadata": {},
     "output_type": "display_data"
    }
   ],
   "source": [
    "df_train, df_test = load_data_from_huggingface()\n",
    "print(\"Train Data Head:\")\n",
    "print(df_train.head())\n",
    "print(\"\\nTest Data Head:\")\n",
    "print(df_test.head())\n",
    "run_eda(df_train)"
   ]
  },
  {
   "cell_type": "markdown",
   "id": "fa9ed496",
   "metadata": {},
   "source": [
    " I’m defining a text preprocessor to normalize the input:\n",
    "- Converts to lowercase\n",
    "- Removes all non-alphanumeric characters except whitespaces\n",
    "- Removes extra spaces\n",
    "\n",
    "Next, I’m building a label encoder using sklearn’s LabelEncoder to convert intent strings into numerical format.\n",
    "\n",
    "-Then I prepare a tokenizer — here I’m using 'prajjwal1/bert-tiny' from Hugging Face.\n",
    "-This will convert text into token IDs with padding and truncation.\n",
    "\n",
    "I’m also creating a custom PyTorch Dataset class called HospitalityDataset:\n",
    "- It takes in texts, labels, a tokenizer, and max length.\n",
    "- It normalizes text if specified.\n",
    "- It tokenizes each sample using the tokenizer.\n",
    "-- Converts labels into tensors and returns them along with tokenized inputs.\n"
   ]
  },
  {
   "cell_type": "code",
   "execution_count": 5,
   "id": "b6879f9f",
   "metadata": {},
   "outputs": [],
   "source": [
    "def normalize_text(text: str) -> str:\n",
    "    text = text.lower()\n",
    "    text = re.sub(r\"[^\\w\\s]\", \"\", text)\n",
    "    text = re.sub(r\"\\s+\", \" \", text).strip()\n",
    "    return text\n",
    "\n",
    "def build_label_encoder(labels: List[str]) -> LabelEncoder:\n",
    "    le = LabelEncoder()\n",
    "    le.fit(labels)\n",
    "    return le\n",
    "\n",
    "def prepare_tokenizer(model_name=\"prajjwal1/bert-tiny\"):\n",
    "    return AutoTokenizer.from_pretrained(model_name)\n",
    "\n",
    "class HospitalityDataset(Dataset):\n",
    "    def __init__(self, texts, labels, tokenizer, max_length=32, normalize=True):\n",
    "        self.texts = texts\n",
    "        self.labels = labels\n",
    "        self.tokenizer = tokenizer\n",
    "        self.max_length = max_length\n",
    "        self.normalize = normalize\n",
    "\n",
    "    def __len__(self):\n",
    "        return len(self.texts)\n",
    "\n",
    "    def __getitem__(self, idx):\n",
    "        text = normalize_text(self.texts[idx]) if self.normalize else self.texts[idx]\n",
    "        enc = self.tokenizer(text, max_length=self.max_length, padding=\"max_length\", truncation=True, return_tensors=\"pt\")\n",
    "        item = {k: v.squeeze(0) for k, v in enc.items()}\n",
    "        item[\"labels\"] = torch.tensor(self.labels[idx], dtype=torch.long)\n",
    "        return item"
   ]
  },
  {
   "cell_type": "code",
   "execution_count": null,
   "id": "d6bb7895",
   "metadata": {},
   "outputs": [
    {
     "name": "stdout",
     "output_type": "stream",
     "text": [
      "Keys: dict_keys(['input_ids', 'token_type_ids', 'attention_mask', 'labels'])\n",
      "\n",
      "Input IDs (first 10 tokens): tensor([ 101, 2079, 2017, 3749, 2151, 3450, 1999, 1996, 7001,  102])\n",
      "Attention Mask (first 10): tensor([1, 1, 1, 1, 1, 1, 1, 1, 1, 1])\n",
      "Label: tensor(0)\n"
     ]
    }
   ],
   "source": [
    "tokenizer = prepare_tokenizer()\n",
    "label_encoder = build_label_encoder(df_train[\"label_text\"].tolist())\n",
    "train_labels = label_encoder.transform(df_train[\"label_text\"].tolist())\n",
    "\n",
    "dataset = HospitalityDataset(\n",
    "    texts=df_train[\"text\"].tolist(),\n",
    "    labels=train_labels,\n",
    "    tokenizer=tokenizer,\n",
    "    max_length=32,\n",
    "    normalize=True\n",
    ")\n",
    "\n",
    "sample = dataset[0]\n",
    "print(\"Keys:\", sample.keys())\n",
    "print(\"\\nInput IDs (first 10 tokens):\", sample['input_ids'][:10])\n",
    "print(\"Attention Mask (first 10):\", sample['attention_mask'][:10])\n",
    "print(\"Label:\", sample['labels'])"
   ]
  },
  {
   "cell_type": "markdown",
   "id": "048edeb5",
   "metadata": {},
   "source": [
    "Sample from the dataset looks perfect!\n",
    "My tokenizer has correctly generated:\n",
    "- input_ids: token IDs for each word\n",
    "- token_type_ids: segment embeddings (used in some models like BERT)\n",
    "- attention_mask: tells the model which tokens are actual words vs padding\n",
    "- labels: the encoded intent class for supervised training\n",
    "\n",
    "\n"
   ]
  },
  {
   "cell_type": "markdown",
   "id": "f2d438ea",
   "metadata": {},
   "source": [
    "Model Building and Saving Step\n",
    "-In this step, I defined a function `build_model()` to load a pre-trained transformer model \n",
    "- (default is prajjwal1/bert-tiny) and adapted it for sequence classification by setting \n",
    "- the number of output labels based on my intent categories.\n",
    "\n",
    "- I also created a `save_model()` function to persist the model, tokenizer, and label encoder \n",
    "- to disk. This way, I can easily reuse or deploy the model later without retraining.\n"
   ]
  },
  {
   "cell_type": "code",
   "execution_count": 7,
   "id": "87497e8b",
   "metadata": {},
   "outputs": [],
   "source": [
    "def build_model(num_labels, pretrained_model_name=\"prajjwal1/bert-tiny\", pretrained_path=None):\n",
    "    model_id = pretrained_path if pretrained_path else pretrained_model_name\n",
    "    config = AutoConfig.from_pretrained(model_id, num_labels=num_labels)\n",
    "    return AutoModelForSequenceClassification.from_pretrained(model_id, config=config)\n",
    "\n",
    "def save_model(model, tokenizer, label_encoder, output_dir):\n",
    "    os.makedirs(output_dir, exist_ok=True)\n",
    "    model.save_pretrained(output_dir)\n",
    "    tokenizer.save_pretrained(output_dir)\n",
    "    joblib.dump(label_encoder, os.path.join(output_dir, \"label_encoder.joblib\"))"
   ]
  },
  {
   "cell_type": "code",
   "execution_count": null,
   "id": "1c245275",
   "metadata": {},
   "outputs": [],
   "source": [
    "def compute_metrics(preds, labels):\n",
    "    return {\n",
    "        \"accuracy\": accuracy_score(labels, preds),\n",
    "        \"f1_weighted\": f1_score(labels, preds, average=\"weighted\")\n",
    "    }\n",
    "# I used a custom HospitalityDataset class to wrap my training and test text+label data along with the tokenizer.\n",
    "# I manually split 10% of my dataset as a validation set and shuffled the indices to ensure randomized splits for training and evaluation.\n",
    "\n",
    "def train_model(model_name=\"prajjwal1/bert-tiny\", output_dir=\"model_output\", epochs=2, sample_size_train=5000, sample_size_test=1000, learning_rate=5e-5):\n",
    "    df_train, df_test = load_data_from_huggingface(sample_size_train, sample_size_test)\n",
    "    run_eda(df_train)\n",
    "\n",
    "    label_encoder = build_label_encoder(pd.concat([df_train[\"label_text\"], df_test[\"label_text\"]]))\n",
    "    y_train = label_encoder.transform(df_train[\"label_text\"])\n",
    "    y_test = label_encoder.transform(df_test[\"label_text\"])\n",
    "    tokenizer = prepare_tokenizer(model_name)\n",
    "    dataset = HospitalityDataset(df_train[\"text\"], y_train, tokenizer)\n",
    "    val_size = int(0.1 * len(dataset))\n",
    "    indices = list(range(len(dataset)))\n",
    "    np.random.shuffle(indices)\n",
    "    train_indices = indices[val_size:]\n",
    "    val_indices = indices[:val_size]\n",
    "\n",
    "    train_subset = Subset(dataset, train_indices)\n",
    "    val_subset = Subset(dataset, val_indices)\n",
    "    test_dataset = HospitalityDataset(df_test[\"text\"], y_test, tokenizer)\n",
    "    model = build_model(len(label_encoder.classes_), model_name)\n",
    "    device = torch.device(\"cuda\" if torch.cuda.is_available() else \"cpu\")\n",
    "    model.to(device)\n",
    "\n",
    "    train_loader = DataLoader(train_subset, batch_size=16, shuffle=True)\n",
    "    val_loader = DataLoader(val_subset, batch_size=16)\n",
    "    test_loader = DataLoader(test_dataset, batch_size=16)\n",
    "\n",
    "    optimizer = AdamW(model.parameters(), lr=learning_rate)\n",
    "\n",
    "    for epoch in range(epochs):\n",
    "        model.train()\n",
    "        for batch in train_loader:\n",
    "            batch = {k: v.to(device) for k, v in batch.items()}\n",
    "            optimizer.zero_grad()\n",
    "            loss = model(**batch).loss\n",
    "            loss.backward()\n",
    "            optimizer.step()\n",
    "\n",
    "        model.eval()\n",
    "        preds, labels = [], []\n",
    "        with torch.no_grad():\n",
    "            for batch in val_loader:\n",
    "                batch = {k: v.to(device) for k, v in batch.items()}\n",
    "                outputs = model(**batch).logits\n",
    "                preds += torch.argmax(outputs, dim=1).cpu().tolist()\n",
    "                labels += batch[\"labels\"].cpu().tolist()\n",
    "        metrics = compute_metrics(np.array(preds), np.array(labels))\n",
    "        print(f\"Epoch {epoch+1} - Validation Accuracy: {metrics['accuracy']:.4f}, F1 Score: {metrics['f1_weighted']:.4f}\")\n",
    "\n",
    "    # Final Evaluation\n",
    "    model.eval()\n",
    "    test_preds, test_labels = [], []\n",
    "    with torch.no_grad():\n",
    "        for batch in test_loader:\n",
    "            batch = {k: v.to(device) for k, v in batch.items()}\n",
    "            outputs = model(**batch).logits\n",
    "            test_preds += torch.argmax(outputs, dim=1).cpu().tolist()\n",
    "            test_labels += batch[\"labels\"].cpu().tolist()\n",
    "\n",
    "    print(\"\\nClassification Report on Test Set:\")\n",
    "    print(classification_report(\n",
    "        test_labels,\n",
    "        test_preds,\n",
    "        labels=np.arange(len(label_encoder.classes_)),\n",
    "        target_names=label_encoder.classes_\n",
    "    ))\n",
    "    save_model(model, tokenizer, label_encoder, output_dir)\n",
    "    return model, tokenizer, label_encoder"
   ]
  },
  {
   "cell_type": "code",
   "execution_count": 9,
   "id": "7d9d8e60",
   "metadata": {},
   "outputs": [
    {
     "name": "stdout",
     "output_type": "stream",
     "text": [
      "Class Distribution:\n",
      " label_text\n",
      "BANQUET_BOOKING         1545\n",
      "ROOMS                    616\n",
      "SERVANT_ACCOMODATION     532\n",
      "DOCTOR_FACILITY          516\n",
      "COUPLE_FRIENDLY          414\n",
      "BOOKING                  234\n",
      "PROMOTIONS               159\n",
      "LOYALITY                 150\n",
      "MUSIC_EVENTS             119\n",
      "DINING                   112\n",
      "BAR                       55\n",
      "HAVEACTIVITY              45\n",
      "AIRPORT_STATIONS          39\n",
      "BOOKING_INCLUSION         37\n",
      "AMENITIES                 37\n",
      "FINANCIAL                 35\n",
      "BOOKING_SPECIAL           34\n",
      "SPECIAL_REQUEST           34\n",
      "LOYALITYABLE              33\n",
      "SPA_AND_BATH              31\n",
      "BOOKING_PICKUP            30\n",
      "SANITIZATION              22\n",
      "FOOD_ADDON                22\n",
      "ID_PROOF                  18\n",
      "SWIMMING_POOL             16\n",
      "BEVERAGE                  14\n",
      "DINNER_ENQUIRY            10\n",
      "BREAKFAST                  9\n",
      "KIDS_AMENITIES             8\n",
      "SMOKING_ROOM               6\n",
      "EDIT_BOOKING               6\n",
      "PAYMENT                    6\n",
      "HOTEL_LOCATION             6\n",
      "SAFARI                     5\n",
      "INTERNET                   5\n",
      "PRIVATE_VEHICLE            4\n",
      "JUNGLE_SAFARI              3\n",
      "BEST_VISITING_TIME         3\n",
      "QUERY_4_BOOKING            3\n",
      "MEMBER_INFO                2\n",
      "CALL_ME                    1\n",
      "FOREX                      1\n",
      "PARKING                    1\n",
      "BOOKING_PO                 1\n",
      "ROOM_SERVICE               1\n",
      "Name: count, dtype: int64\n"
     ]
    },
    {
     "data": {
      "image/png": "[encoded data removed]",
      "text/plain": [
       "<Figure size 800x400 with 1 Axes>"
      ]
     },
     "metadata": {},
     "output_type": "display_data"
    },
    {
     "name": "stderr",
     "output_type": "stream",
     "text": [
      "Some weights of BertForSequenceClassification were not initialized from the model checkpoint at prajjwal1/bert-tiny and are newly initialized: ['classifier.bias', 'classifier.weight']\n",
      "You should probably TRAIN this model on a down-stream task to be able to use it for predictions and inference.\n",
      "c:\\Users\\knowl\\anaconda3\\Lib\\site-packages\\torch\\nn\\modules\\module.py:1762: FutureWarning: `encoder_attention_mask` is deprecated and will be removed in version 4.55.0 for `BertSdpaSelfAttention.forward`.\n",
      "  return forward_call(*args, **kwargs)\n"
     ]
    },
    {
     "name": "stdout",
     "output_type": "stream",
     "text": [
      "Epoch 1 - Validation Accuracy: 0.4779, F1 Score: 0.3528\n"
     ]
    },
    {
     "name": "stderr",
     "output_type": "stream",
     "text": [
      "c:\\Users\\knowl\\anaconda3\\Lib\\site-packages\\torch\\nn\\modules\\module.py:1762: FutureWarning: `encoder_attention_mask` is deprecated and will be removed in version 4.55.0 for `BertSdpaSelfAttention.forward`.\n",
      "  return forward_call(*args, **kwargs)\n"
     ]
    },
    {
     "name": "stdout",
     "output_type": "stream",
     "text": [
      "Epoch 2 - Validation Accuracy: 0.6787, F1 Score: 0.5910\n"
     ]
    },
    {
     "name": "stderr",
     "output_type": "stream",
     "text": [
      "c:\\Users\\knowl\\anaconda3\\Lib\\site-packages\\torch\\nn\\modules\\module.py:1762: FutureWarning: `encoder_attention_mask` is deprecated and will be removed in version 4.55.0 for `BertSdpaSelfAttention.forward`.\n",
      "  return forward_call(*args, **kwargs)\n"
     ]
    },
    {
     "name": "stdout",
     "output_type": "stream",
     "text": [
      "\n",
      "Classification Report on Test Set:\n",
      "                      precision    recall  f1-score   support\n",
      "\n",
      "    AIRPORT_STATIONS       0.00      0.00      0.00         3\n",
      "           AMENITIES       0.00      0.00      0.00         9\n",
      "     BANQUET_BOOKING       0.87      0.99      0.93       306\n",
      "                 BAR       0.00      0.00      0.00        16\n",
      "  BEST_VISITING_TIME       0.00      0.00      0.00         0\n",
      "            BEVERAGE       0.00      0.00      0.00         7\n",
      "             BOOKING       0.00      0.00      0.00        35\n",
      "   BOOKING_INCLUSION       0.00      0.00      0.00         5\n",
      "      BOOKING_PICKUP       0.00      0.00      0.00         5\n",
      "          BOOKING_PO       0.00      0.00      0.00         0\n",
      "     BOOKING_SPECIAL       0.00      0.00      0.00         5\n",
      "           BREAKFAST       0.00      0.00      0.00         2\n",
      "             CALL_ME       0.00      0.00      0.00         0\n",
      "     COUPLE_FRIENDLY       0.84      0.98      0.90        84\n",
      "              DINING       1.00      0.07      0.13        28\n",
      "      DINNER_ENQUIRY       0.00      0.00      0.00         2\n",
      "     DOCTOR_FACILITY       0.48      0.67      0.56        82\n",
      "        EDIT_BOOKING       0.00      0.00      0.00         4\n",
      "           FINANCIAL       0.00      0.00      0.00         9\n",
      "          FOOD_ADDON       0.00      0.00      0.00         4\n",
      "               FOREX       0.00      0.00      0.00         0\n",
      "        HAVEACTIVITY       0.00      0.00      0.00         7\n",
      "      HOTEL_LOCATION       0.00      0.00      0.00         2\n",
      "            ID_PROOF       0.00      0.00      0.00         3\n",
      "            INTERNET       0.00      0.00      0.00         2\n",
      "       JUNGLE_SAFARI       0.00      0.00      0.00         1\n",
      "      KIDS_AMENITIES       0.00      0.00      0.00         0\n",
      "            LOYALITY       0.00      0.00      0.00        40\n",
      "        LOYALITYABLE       0.00      0.00      0.00        14\n",
      "         MEMBER_INFO       0.00      0.00      0.00         0\n",
      "        MUSIC_EVENTS       0.00      0.00      0.00        20\n",
      "            OUTSIDER       0.00      0.00      0.00         1\n",
      "             PARKING       0.00      0.00      0.00         0\n",
      "             PAYMENT       0.00      0.00      0.00         0\n",
      "     PRIVATE_VEHICLE       0.00      0.00      0.00         1\n",
      "          PROMOTIONS       0.00      0.00      0.00        35\n",
      "     QUERY_4_BOOKING       0.00      0.00      0.00         0\n",
      "               ROOMS       0.39      0.97      0.56       118\n",
      "        ROOM_SERVICE       0.00      0.00      0.00         0\n",
      "              SAFARI       0.00      0.00      0.00         0\n",
      "        SANITIZATION       0.00      0.00      0.00         4\n",
      "SERVANT_ACCOMODATION       0.84      0.93      0.88       130\n",
      "        SMOKING_ROOM       0.00      0.00      0.00         1\n",
      "        SPA_AND_BATH       0.00      0.00      0.00         6\n",
      "     SPECIAL_REQUEST       0.00      0.00      0.00         6\n",
      "       SWIMMING_POOL       0.00      0.00      0.00         3\n",
      "\n",
      "            accuracy                           0.68      1000\n",
      "           macro avg       0.10      0.10      0.09      1000\n",
      "        weighted avg       0.56      0.68      0.59      1000\n",
      "\n"
     ]
    },
    {
     "name": "stderr",
     "output_type": "stream",
     "text": [
      "c:\\Users\\knowl\\anaconda3\\Lib\\site-packages\\sklearn\\metrics\\_classification.py:1531: UndefinedMetricWarning: Precision is ill-defined and being set to 0.0 in labels with no predicted samples. Use `zero_division` parameter to control this behavior.\n",
      "  _warn_prf(average, modifier, f\"{metric.capitalize()} is\", len(result))\n",
      "c:\\Users\\knowl\\anaconda3\\Lib\\site-packages\\sklearn\\metrics\\_classification.py:1531: UndefinedMetricWarning: Recall is ill-defined and being set to 0.0 in labels with no true samples. Use `zero_division` parameter to control this behavior.\n",
      "  _warn_prf(average, modifier, f\"{metric.capitalize()} is\", len(result))\n",
      "c:\\Users\\knowl\\anaconda3\\Lib\\site-packages\\sklearn\\metrics\\_classification.py:1531: UndefinedMetricWarning: F-score is ill-defined and being set to 0.0 in labels with no true nor predicted samples. Use `zero_division` parameter to control this behavior.\n",
      "  _warn_prf(average, modifier, f\"{metric.capitalize()} is\", len(result))\n",
      "c:\\Users\\knowl\\anaconda3\\Lib\\site-packages\\sklearn\\metrics\\_classification.py:1531: UndefinedMetricWarning: Precision is ill-defined and being set to 0.0 in labels with no predicted samples. Use `zero_division` parameter to control this behavior.\n",
      "  _warn_prf(average, modifier, f\"{metric.capitalize()} is\", len(result))\n",
      "c:\\Users\\knowl\\anaconda3\\Lib\\site-packages\\sklearn\\metrics\\_classification.py:1531: UndefinedMetricWarning: Recall is ill-defined and being set to 0.0 in labels with no true samples. Use `zero_division` parameter to control this behavior.\n",
      "  _warn_prf(average, modifier, f\"{metric.capitalize()} is\", len(result))\n",
      "c:\\Users\\knowl\\anaconda3\\Lib\\site-packages\\sklearn\\metrics\\_classification.py:1531: UndefinedMetricWarning: F-score is ill-defined and being set to 0.0 in labels with no true nor predicted samples. Use `zero_division` parameter to control this behavior.\n",
      "  _warn_prf(average, modifier, f\"{metric.capitalize()} is\", len(result))\n",
      "c:\\Users\\knowl\\anaconda3\\Lib\\site-packages\\sklearn\\metrics\\_classification.py:1531: UndefinedMetricWarning: Precision is ill-defined and being set to 0.0 in labels with no predicted samples. Use `zero_division` parameter to control this behavior.\n",
      "  _warn_prf(average, modifier, f\"{metric.capitalize()} is\", len(result))\n",
      "c:\\Users\\knowl\\anaconda3\\Lib\\site-packages\\sklearn\\metrics\\_classification.py:1531: UndefinedMetricWarning: Recall is ill-defined and being set to 0.0 in labels with no true samples. Use `zero_division` parameter to control this behavior.\n",
      "  _warn_prf(average, modifier, f\"{metric.capitalize()} is\", len(result))\n",
      "c:\\Users\\knowl\\anaconda3\\Lib\\site-packages\\sklearn\\metrics\\_classification.py:1531: UndefinedMetricWarning: F-score is ill-defined and being set to 0.0 in labels with no true nor predicted samples. Use `zero_division` parameter to control this behavior.\n",
      "  _warn_prf(average, modifier, f\"{metric.capitalize()} is\", len(result))\n"
     ]
    }
   ],
   "source": [
    "model, tokenizer, label_encoder = train_model()"
   ]
  },
  {
   "cell_type": "markdown",
   "id": "34b2d2a2",
   "metadata": {},
   "source": [
    "After training the model for 2 epochs on a bert-tiny base, I evaluated it on a held-out test set of 1000 samples. The model gave:\n",
    "\n",
    "Accuracy: 68%\n",
    "\n",
    "Weighted F1 Score: 0.59\n",
    "\n",
    "Macro F1 Score: 0.09\n",
    "\n",
    "This shows that while the model is learning, it’s struggling with minority classes like FOOD_ADDON and FOREX, which either have too few examples or were not represented at all in the test set. The weighted avg is better because it considers class imbalance, but macro avg being very low tells me I need to balance the dataset or apply techniques like class weighting, focal loss, or oversampling to improve per-class performance."
   ]
  },
  {
   "cell_type": "code",
   "execution_count": 10,
   "id": "30bfc903",
   "metadata": {},
   "outputs": [],
   "source": [
    "class IntentPredictor:\n",
    "    def __init__(self, model_dir):\n",
    "        self.tokenizer = AutoTokenizer.from_pretrained(model_dir)\n",
    "        self.model = AutoModelForSequenceClassification.from_pretrained(model_dir).eval()\n",
    "        self.label_encoder = joblib.load(os.path.join(model_dir, \"label_encoder.joblib\"))\n",
    "        self.device = torch.device(\"cuda\" if torch.cuda.is_available() else \"cpu\")\n",
    "        self.model.to(self.device)\n",
    "\n",
    "    def predict(self, text: str) -> Dict[str, object]:\n",
    "        text = normalize_text(text)\n",
    "        enc = self.tokenizer(text, max_length=32, padding=\"max_length\", truncation=True, return_tensors=\"pt\")\n",
    "        enc = {k: v.to(self.device) for k, v in enc.items()}\n",
    "        with torch.no_grad():\n",
    "            logits = self.model(**enc).logits.squeeze(0)\n",
    "        probs = torch.nn.functional.softmax(logits, dim=0).cpu().numpy()\n",
    "        pred = np.argmax(probs)\n",
    "        label = self.label_encoder.inverse_transform([pred])[0]\n",
    "        return {\"label\": label, \"probabilities\": dict(zip(self.label_encoder.classes_, probs.round(3)))}"
   ]
  },
  {
   "cell_type": "code",
   "execution_count": 11,
   "id": "6b547754",
   "metadata": {},
   "outputs": [
    {
     "name": "stdout",
     "output_type": "stream",
     "text": [
      "{'label': 'BANQUET_BOOKING', 'probabilities': {'AIRPORT_STATIONS': 0.01, 'AMENITIES': 0.009, 'BANQUET_BOOKING': 0.2, 'BAR': 0.012, 'BEST_VISITING_TIME': 0.004, 'BEVERAGE': 0.005, 'BOOKING': 0.063, 'BOOKING_INCLUSION': 0.009, 'BOOKING_PICKUP': 0.008, 'BOOKING_PO': 0.003, 'BOOKING_SPECIAL': 0.009, 'BREAKFAST': 0.005, 'CALL_ME': 0.003, 'COUPLE_FRIENDLY': 0.041, 'DINING': 0.019, 'DINNER_ENQUIRY': 0.005, 'DOCTOR_FACILITY': 0.127, 'EDIT_BOOKING': 0.004, 'FINANCIAL': 0.009, 'FOOD_ADDON': 0.008, 'FOREX': 0.004, 'HAVEACTIVITY': 0.011, 'HOTEL_LOCATION': 0.003, 'ID_PROOF': 0.007, 'INTERNET': 0.004, 'JUNGLE_SAFARI': 0.003, 'KIDS_AMENITIES': 0.004, 'LOYALITY': 0.032, 'LOYALITYABLE': 0.01, 'MEMBER_INFO': 0.003, 'MUSIC_EVENTS': 0.022, 'OUTSIDER': 0.003, 'PARKING': 0.003, 'PAYMENT': 0.004, 'PRIVATE_VEHICLE': 0.004, 'PROMOTIONS': 0.03, 'QUERY_4_BOOKING': 0.004, 'ROOMS': 0.167, 'ROOM_SERVICE': 0.003, 'SAFARI': 0.004, 'SANITIZATION': 0.006, 'SERVANT_ACCOMODATION': 0.088, 'SMOKING_ROOM': 0.003, 'SPA_AND_BATH': 0.008, 'SPECIAL_REQUEST': 0.011, 'SWIMMING_POOL': 0.006}}\n"
     ]
    },
    {
     "name": "stderr",
     "output_type": "stream",
     "text": [
      "c:\\Users\\knowl\\anaconda3\\Lib\\site-packages\\torch\\nn\\modules\\module.py:1762: FutureWarning: `encoder_attention_mask` is deprecated and will be removed in version 4.55.0 for `BertSdpaSelfAttention.forward`.\n",
      "  return forward_call(*args, **kwargs)\n"
     ]
    }
   ],
   "source": [
    "predictor = IntentPredictor(\"model_output\")\n",
    "result = predictor.predict(\"I want to book a room for tomorrow night.\")\n",
    "print(result)"
   ]
  },
  {
   "cell_type": "markdown",
   "id": "71d772de",
   "metadata": {},
   "source": [
    " I created a reusable IntentPredictor class to load and run predictions using my trained intent classification model.\n",
    "\n",
    "🔹 Inside __init__():\n",
    "\n",
    "I loaded my tokenizer and the fine-tuned BERT model from the saved directory using from_pretrained.\n",
    "\n",
    "I also loaded the label_encoder from disk using joblib, which helps convert predicted indices back into readable labels.\n",
    "\n",
    "Based on availability, I moved everything to GPU (cuda) or CPU automatically.\n",
    "\n",
    "🔹 Inside predict():\n",
    "\n",
    "I took raw input text and normalized it for consistency.\n",
    "\n",
    "I tokenized it to prepare the input tensors using my model’s tokenizer.\n",
    "\n",
    "Without calculating gradients (inference mode), I passed the encoded input to the model and fetched the logits.\n",
    "\n",
    "I then used softmax to convert logits into class probabilities.\n",
    "\n",
    "I picked the class with the highest probability using argmax.\n",
    "\n",
    "Finally, I used the label encoder to reverse the predicted index into the original class label and returned both the label and the full probability dictionary (rounded)."
   ]
  },
  {
   "cell_type": "markdown",
   "id": "218c1301",
   "metadata": {},
   "source": [
    "- Predicted Intent: 'BANQUET_BOOKING'\n",
    "The model identified the input text as most likely referring to a banquet booking inquiry — which aligns well with the test case.\n",
    "\n",
    "- Probability Breakdown:\n",
    "Although 'BANQUET_BOOKING' has the highest probability (0.20), other classes like 'ROOMS' (0.167) and 'DOCTOR_FACILITY' (0.127) are also relatively high. This shows that the model has some overlap or confusion, likely due to limited data or similarity between these categories.\n",
    "\n",
    "- This is valuable:\n",
    "By returning full probability scores, I can:\n",
    "\n",
    "Understand how confident the model is,\n",
    "\n",
    "Identify ambiguous predictions,\n",
    "\n",
    "Consider thresholding or multi-label classification in future versions."
   ]
  }
 ],
 "metadata": {
  "kernelspec": {
   "display_name": "base",
   "language": "python",
   "name": "python3"
  },
  "language_info": {
   "codemirror_mode": {
    "name": "ipython",
    "version": 3
   },
   "file_extension": ".py",
   "mimetype": "text/x-python",
   "name": "python",
   "nbconvert_exporter": "python",
   "pygments_lexer": "ipython3",
   "version": "3.12.7"
  }
 },
 "nbformat": 4,
 "nbformat_minor": 5
}
